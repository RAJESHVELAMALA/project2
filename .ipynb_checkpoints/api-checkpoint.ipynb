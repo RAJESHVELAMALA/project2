{
 "cells": [
  {
   "cell_type": "code",
   "execution_count": 3,
   "id": "cb0ee6af-7838-44c4-8b2d-3ce46fb2f73c",
   "metadata": {},
   "outputs": [
    {
     "name": "stdout",
     "output_type": "stream",
     "text": [
      "Requirement already satisfied: flask in /opt/anaconda3/lib/python3.11/site-packages (2.2.5)\n",
      "Requirement already satisfied: Werkzeug>=2.2.2 in /opt/anaconda3/lib/python3.11/site-packages (from flask) (2.2.3)\n",
      "Requirement already satisfied: Jinja2>=3.0 in /opt/anaconda3/lib/python3.11/site-packages (from flask) (3.1.3)\n",
      "Requirement already satisfied: itsdangerous>=2.0 in /opt/anaconda3/lib/python3.11/site-packages (from flask) (2.0.1)\n",
      "Requirement already satisfied: click>=8.0 in /opt/anaconda3/lib/python3.11/site-packages (from flask) (8.1.7)\n",
      "Requirement already satisfied: MarkupSafe>=2.0 in /opt/anaconda3/lib/python3.11/site-packages (from Jinja2>=3.0->flask) (2.1.3)\n"
     ]
    }
   ],
   "source": [
    "!pip install flask"
   ]
  },
  {
   "cell_type": "code",
   "execution_count": null,
   "id": "7d5fd57b-6b30-4d7d-a89f-0799bb7b4ab3",
   "metadata": {},
   "outputs": [],
   "source": [
    "from flask import Flask, request, jsonify\n",
    "import pickle\n",
    "import numpy as np\n",
    "\n",
    "app = Flask(__name__)\n",
    "\n",
    "# Load the trained Naive Bayes model\n",
    "with open('naive_bayes_model.pkl', 'rb') as model_file:\n",
    "    model = pickle.load(model_file)\n",
    "\n",
    "@app.route('/')\n",
    "def home():\n",
    "    return \"Naive Bayes Prediction API\"\n",
    "\n",
    "@app.route('/predict', methods=['POST'])\n",
    "def predict():\n",
    "    data = request.get_json()\n",
    "    required_keys = ['Age', 'Gender', 'Itching', 'Skin_Rash']\n",
    "    \n",
    "    if not all(key in data for key in required_keys):\n",
    "        return jsonify({'error': 'Missing data'}), 400\n",
    "    \n",
    "   # Convert data to numpy array for prediction\n",
    "    features = np.array([[data['Age'], data['Gender'], data['Itching'], data['Skin_Rash']]])\n",
    "    prediction = model.predict(features)\n",
    "    prediction_proba = model.predict_proba(features)\n",
    "\n",
    "    predicted_class = target_names[prediction[0]]\n",
    "\n",
    "    return jsonify({\n",
    "        'prediction': predicted_class,\n",
    "        'probabilities': {target_names[i]: prob for i, prob in enumerate(prediction_proba[0])}\n",
    "    })\n",
    "\n",
    "if __name__ == '__main__':\n",
    "    app.run(debug=True)\n"
   ]
  }
 ],
 "metadata": {
  "kernelspec": {
   "display_name": "Python 3 (ipykernel)",
   "language": "python",
   "name": "python3"
  },
  "language_info": {
   "codemirror_mode": {
    "name": "ipython",
    "version": 3
   },
   "file_extension": ".py",
   "mimetype": "text/x-python",
   "name": "python",
   "nbconvert_exporter": "python",
   "pygments_lexer": "ipython3",
   "version": "3.11.7"
  }
 },
 "nbformat": 4,
 "nbformat_minor": 5
}
