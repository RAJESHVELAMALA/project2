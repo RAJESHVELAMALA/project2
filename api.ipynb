{
 "cells": [
  {
   "cell_type": "code",
   "execution_count": 1,
   "id": "cb0ee6af-7838-44c4-8b2d-3ce46fb2f73c",
   "metadata": {},
   "outputs": [
    {
     "name": "stdout",
     "output_type": "stream",
     "text": [
      "Requirement already satisfied: flask in /opt/anaconda3/lib/python3.11/site-packages (2.2.5)\n",
      "Requirement already satisfied: Werkzeug>=2.2.2 in /opt/anaconda3/lib/python3.11/site-packages (from flask) (2.2.3)\n",
      "Requirement already satisfied: Jinja2>=3.0 in /opt/anaconda3/lib/python3.11/site-packages (from flask) (3.1.3)\n",
      "Requirement already satisfied: itsdangerous>=2.0 in /opt/anaconda3/lib/python3.11/site-packages (from flask) (2.0.1)\n",
      "Requirement already satisfied: click>=8.0 in /opt/anaconda3/lib/python3.11/site-packages (from flask) (8.1.7)\n",
      "Requirement already satisfied: MarkupSafe>=2.0 in /opt/anaconda3/lib/python3.11/site-packages (from Jinja2>=3.0->flask) (2.1.3)\n"
     ]
    }
   ],
   "source": [
    "!pip install flask"
   ]
  },
  {
   "cell_type": "code",
   "execution_count": 2,
   "id": "7d5fd57b-6b30-4d7d-a89f-0799bb7b4ab3",
   "metadata": {},
   "outputs": [],
   "source": []
  },
  {
   "cell_type": "code",
   "execution_count": 5,
   "metadata": {},
   "outputs": [
    {
     "name": "stdout",
     "output_type": "stream",
     "text": [
      " * Serving Flask app '__main__'\n",
      " * Debug mode: on\n"
     ]
    },
    {
     "name": "stderr",
     "output_type": "stream",
     "text": [
      "WARNING: This is a development server. Do not use it in a production deployment. Use a production WSGI server instead.\n",
      " * Running on http://127.0.0.1:5000\n",
      "Press CTRL+C to quit\n",
      " * Restarting with watchdog (fsevents)\n",
      "Traceback (most recent call last):\n",
      "  File \"/opt/anaconda3/lib/python3.11/site-packages/ipykernel_launcher.py\", line 15, in <module>\n",
      "    from ipykernel import kernelapp as app\n",
      "  File \"/opt/anaconda3/lib/python3.11/site-packages/ipykernel/__init__.py\", line 7, in <module>\n",
      "    from .connect import *\n",
      "  File \"/opt/anaconda3/lib/python3.11/site-packages/ipykernel/connect.py\", line 12, in <module>\n",
      "    import jupyter_client\n",
      "  File \"/opt/anaconda3/lib/python3.11/site-packages/jupyter_client/__init__.py\", line 3, in <module>\n",
      "    from .asynchronous import AsyncKernelClient\n",
      "  File \"/opt/anaconda3/lib/python3.11/site-packages/jupyter_client/asynchronous/__init__.py\", line 1, in <module>\n",
      "    from .client import AsyncKernelClient  # noqa\n",
      "    ^^^^^^^^^^^^^^^^^^^^^^^^^^^^^^^^^^^^^\n",
      "  File \"/opt/anaconda3/lib/python3.11/site-packages/jupyter_client/asynchronous/client.py\", line 11, in <module>\n",
      "    from ..channels import AsyncZMQSocketChannel, HBChannel\n",
      "  File \"/opt/anaconda3/lib/python3.11/site-packages/jupyter_client/channels.py\", line 12, in <module>\n",
      "    from jupyter_core.utils import ensure_async\n",
      "  File \"/opt/anaconda3/lib/python3.11/site-packages/jupyter_core/utils/__init__.py\", line 13, in <module>\n",
      "    from pathlib import Path\n",
      "  File \"/opt/anaconda3/lib/python3.11/site-packages/pathlib.py\", line 10, in <module>\n",
      "    from collections import Sequence\n",
      "ImportError: cannot import name 'Sequence' from 'collections' (/opt/anaconda3/lib/python3.11/collections/__init__.py)\n"
     ]
    },
    {
     "ename": "SystemExit",
     "evalue": "1",
     "output_type": "error",
     "traceback": [
      "An exception has occurred, use %tb to see the full traceback.\n",
      "\u001b[0;31mSystemExit\u001b[0m\u001b[0;31m:\u001b[0m 1\n"
     ]
    }
   ],
   "source": [
    "from flask import Flask, request, jsonify\n",
    "import pickle\n",
    "import numpy as np\n",
    "\n",
    "app = Flask(__name__)\n",
    "\n",
    "# Load the trained Naive Bayes model\n",
    "with open('naive_bayes_model_v2.pkl', 'rb') as model_file:\n",
    "    model = pickle.load(model_file)\n",
    "\n",
    "@app.route('/')\n",
    "def home():\n",
    "    return \"Naive Bayes Prediction API\"\n",
    "\n",
    "@app.route('/predict', methods=['POST'])\n",
    "def predict():\n",
    "    data = request.get_json()\n",
    "    required_keys = ['Age', 'Gender', 'Itching', 'Skin_Rash']\n",
    "    \n",
    "    if not all(key in data for key in required_keys):\n",
    "        return jsonify({'error': 'Missing data'}), 400\n",
    "    \n",
    "   # Convert data to numpy array for prediction\n",
    "    features = np.array([[data['Age'], data['Gender'], data['Itching'], data['Skin_Rash']]])\n",
    "    prediction = model.predict(features)\n",
    "    prediction_proba = model.predict_proba(features)\n",
    "\n",
    "    predicted_class = target_names[prediction[0]]\n",
    "\n",
    "    return jsonify({\n",
    "        'prediction': predicted_class,\n",
    "        'probabilities': {target_names[i]: prob for i, prob in enumerate(prediction_proba[0])}\n",
    "    })\n",
    "\n",
    "if __name__ == '__main__':\n",
    "    app.run(debug=True)\n"
   ]
  },
  {
   "cell_type": "code",
   "execution_count": null,
   "id": "875749b8-5da4-4199-b88c-26367873cd77",
   "metadata": {},
   "outputs": [],
   "source": []
  }
 ],
 "metadata": {
  "kernelspec": {
   "display_name": "Python 3 (ipykernel)",
   "language": "python",
   "name": "python3"
  },
  "language_info": {
   "codemirror_mode": {
    "name": "ipython",
    "version": 3
   },
   "file_extension": ".py",
   "mimetype": "text/x-python",
   "name": "python",
   "nbconvert_exporter": "python",
   "pygments_lexer": "ipython3",
   "version": "3.11.7"
  }
 },
 "nbformat": 4,
 "nbformat_minor": 5
}
