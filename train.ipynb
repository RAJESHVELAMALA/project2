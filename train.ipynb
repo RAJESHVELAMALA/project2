{
 "cells": [
  {
   "cell_type": "code",
   "execution_count": null,
   "id": "b01e0901-92d0-4d4b-b8b7-462bf780cf65",
   "metadata": {},
   "outputs": [],
   "source": [
    "# Note book to Train the following models\n",
    "#Logistic Regression, Decision Trees, Random Forests, and SVM "
   ]
  },
  {
   "cell_type": "code",
   "execution_count": null,
   "id": "d2103747-34df-424d-a0bf-287399e814df",
   "metadata": {},
   "outputs": [],
   "source": [
    "from sklearn.linear_model import LinearRegression\n",
    "from sklearn.metrics import mean_squared_error, r2_score\n",
    "from sklearn.model_selection import train_test_split\n",
    "from sklearn.metrics import accuracy_score\n",
    "from sklearn.svm import SVC \n",
    "from sklearn.neighbors import KNeighborsClassifier\n",
    "from sklearn import tree\n"
   ]
  },
  {
   "cell_type": "code",
   "execution_count": null,
   "id": "f5146b96-fd27-4937-a86f-6213a14f0815",
   "metadata": {},
   "outputs": [],
   "source": [
    "def trainLiearRegressionModel(X, y):\n",
    "    X_train, X_test, y_train, y_test = train_test_split(X, y, random_state=42)\n",
    "    model = LinearRegression()\n",
    "    model.fit(X_train, y_train)\n",
    "    predicted_y_values = model.predict(X)\n",
    "    print(f\"Model's slope: {model.coef_}\")\n",
    "    print(f\"Model's y-intercept: {model.intercept_}\")\n",
    "    print(f\"Model's formula: y = {model.intercept_} + {model.coef_[0]}X\")\n",
    "    # Compute the metrics for the linear regression model\n",
    "    score = round(model.score(X, y, sample_weight=None),5)\n",
    "    r2 = round(r2_score(y, predicted_y_values),5)\n",
    "    mse = round(mean_squared_error(y, predicted_y_values),4)\n",
    "    rmse = round(np.sqrt(mse),4)\n",
    "    \n",
    "    # Print relevant metrics.\n",
    "    print(f\"The score is {score}.\")\n",
    "    print(f\"The r2 is {r2}.\")\n",
    "    print(f\"The mean squared error is {mse}.\")\n",
    "    print(f\"The root mean squared error is {rmse}.\")\n",
    "\n"
   ]
  },
  {
   "cell_type": "code",
   "execution_count": null,
   "id": "473ae5b1-640b-49b7-9eb5-162f82718082",
   "metadata": {},
   "outputs": [],
   "source": [
    "def trainSVCModel(X, y):\n",
    "    model = SVC(kernel='linear')\n",
    "    model.fit(X_train, y_train)\n",
    "    # Validate the model by checking the model accuracy with model.score\n",
    "    print('Train Accuracy: %.3f' % model.score(X_train, y_train))\n",
    "    print('Test Accuracy: %.3f' % model.score(X_test, y_test)\n",
    "    # Make and save testing predictions with the saved SVM model using the testing data\n",
    "    testing_predictions = model.predict(X_test)\n",
    "\n",
    "    # Review the predictions\n",
    "    testing_predictions\n",
    "    # Display the accuracy score for the testing dataset\n",
    "    accuracy_score(y_test, testing_predictions)"
   ]
  },
  {
   "cell_type": "code",
   "execution_count": null,
   "id": "f2b1e15c-31fd-4e5d-a0f9-f2f059d09e21",
   "metadata": {},
   "outputs": [],
   "source": [
    "\n",
    "\n",
    "\n",
    "# Loop through different k values to find which has the highest accuracy.\n",
    "# Note: We use only odd numbers because we don't want any ties.\n",
    "train_scores = []\n",
    "test_scores = []\n",
    "for k in range(1, 20, 2):\n",
    "    knn = KNeighborsClassifier(n_neighbors=k)\n",
    "    knn.fit(X_train_scaled, y_train)\n",
    "    train_score = knn.score(X_train_scaled, y_train)\n",
    "    test_score = knn.score(X_test_scaled, y_test)\n",
    "    train_scores.append(train_score)\n",
    "    test_scores.append(test_score)\n",
    "    print(f\"k: {k}, Train/Test Score: {train_score:.3f}/{test_score:.3f}\")\n",
    "    \n",
    "# Plot the results\n",
    "plt.plot(range(1, 20, 2), train_scores, marker='o', label=\"training scores\")\n",
    "plt.plot(range(1, 20, 2), test_scores, marker=\"x\", label=\"testing scores\")\n",
    "plt.xlabel(\"k neighbors\")\n",
    "plt.ylabel(\"accuracy score\")\n",
    "plt.legend()\n",
    "plt.show()\n",
    "\n",
    "\n",
    "# Train the KNN model with the best k value\n",
    "# Note that k: 9 seems to be the best choice for this dataset\n",
    "knn = KNeighborsClassifier(n_neighbors=9)\n",
    "knn.fit(X_train_scaled, y_train)\n",
    "print('k=9 Test Acc: %.3f' % knn.score(X_test_scaled, y_test))"
   ]
  },
  {
   "cell_type": "code",
   "execution_count": null,
   "id": "59ecfa49-1364-441f-92d1-037db2b02d3f",
   "metadata": {},
   "outputs": [],
   "source": []
  }
 ],
 "metadata": {
  "kernelspec": {
   "display_name": "Python 3 (ipykernel)",
   "language": "python",
   "name": "python3"
  },
  "language_info": {
   "codemirror_mode": {
    "name": "ipython",
    "version": 3
   },
   "file_extension": ".py",
   "mimetype": "text/x-python",
   "name": "python",
   "nbconvert_exporter": "python",
   "pygments_lexer": "ipython3",
   "version": "3.11.7"
  }
 },
 "nbformat": 4,
 "nbformat_minor": 5
}
