{
 "cells": [
  {
   "cell_type": "code",
   "execution_count": 14,
   "metadata": {},
   "outputs": [],
   "source": [
    "# Importing the libraries\n",
    "import pandas as pd\n",
    "import numpy as np\n",
    "from sklearn.metrics import accuracy_score\n",
    "from sklearn.metrics import balanced_accuracy_score\n",
    "from sklearn.preprocessing import StandardScaler\n",
    "from sklearn.preprocessing import MinMaxScaler\n",
    "from sklearn.metrics import mean_squared_error\n",
    "from sklearn.metrics import r2_score\n",
    "from sklearn.pipeline import Pipeline\n",
    "from statsmodels.stats.outliers_influence import variance_inflation_factor\n",
    "from sklearn.decomposition import PCA\n",
    "from sklearn import metrics\n",
    "from sklearn.metrics import classification_report\n",
    "from sklearn.neighbors import KNeighborsClassifier\n",
    "from sklearn.linear_model import LinearRegression\n",
    "from sklearn.preprocessing import OneHotEncoder\n",
    "from sklearn.model_selection import train_test_split\n",
    "from sklearn.linear_model import LogisticRegression\n",
    "from sklearn.metrics import confusion_matrix\n",
    "from sklearn.metrics import roc_auc_score\n",
    "from sklearn.ensemble import RandomForestClassifier"
   ]
  },
  {
   "cell_type": "code",
   "execution_count": 15,
   "metadata": {},
   "outputs": [],
   "source": [
    "# Calculate the accuracy score\n",
    "def accuracy_score_f(y_test, predictions):\n",
    "    acc_score = accuracy_score(y_test, predictions)\n",
    "    return print(f\"Accuracy Score : {acc_score}\")"
   ]
  },
  {
   "cell_type": "code",
   "execution_count": 16,
   "metadata": {},
   "outputs": [],
   "source": [
    "# Balanced accuracy\n",
    "def balanced_accuracy_score_f(y_var_encoded, y_var_pred):\n",
    "    return print(f\"Balanced Accuracy Score : {balanced_accuracy_score(y_var_encoded, y_var_pred)}\")"
   ]
  },
  {
   "cell_type": "code",
   "execution_count": 17,
   "metadata": {},
   "outputs": [],
   "source": [
    "# Print classification reports\n",
    "def classification_report_f(y_var_encoded, y_var_pred):\n",
    "    return print(classification_report(y_var_encoded, y_var_pred))"
   ]
  },
  {
   "cell_type": "code",
   "execution_count": 18,
   "metadata": {},
   "outputs": [],
   "source": [
    "def r2_adj(x, y, model):\n",
    "    \"\"\"\n",
    "    Calculates adjusted r-squared values given an X variable, \n",
    "    predicted y values, and the model used for the predictions.\n",
    "    \"\"\"\n",
    "    r2 = model.score(x,y)\n",
    "    n = x.shape[0]\n",
    "    p = y.shape[1]\n",
    "    r2_adj_value = 1 - (1 - r2) * (n - 1) / (n - p - 1)\n",
    "\n",
    "    # Print out r-squared values\n",
    "    return print(f\"Adjusted R-squared: {r2_adj_value}\")"
   ]
  },
  {
   "cell_type": "code",
   "execution_count": 19,
   "metadata": {},
   "outputs": [],
   "source": [
    "# Print Mean Square Error\n",
    "def mean_squared_error_f(y_test, y_pred):\n",
    "    mse = mean_squared_error(y_test, y_pred)\n",
    "    return print(f\"Mean Squared Error: {mse}\")"
   ]
  },
  {
   "cell_type": "code",
   "execution_count": 20,
   "metadata": {},
   "outputs": [],
   "source": [
    "# Print R-squared\n",
    "def r2_score_f(y_test, y_pred):\n",
    "    r2_value = r2_score(y_test, y_pred)\n",
    "    return print(f\"R-squared: {r2_value}\")"
   ]
  },
  {
   "cell_type": "code",
   "execution_count": 21,
   "metadata": {},
   "outputs": [],
   "source": [
    "# Print Root Mean Square Error\n",
    "def root_mean_squared_error_f(y_test, y_pred):\n",
    "    mse = round(mean_squared_error(y_test, y_pred),4)\n",
    "    rmse = round(np.sqrt(mse),4)\n",
    "    return print(f\"Root Mean Squared Error: {rmse}\")"
   ]
  },
  {
   "cell_type": "code",
   "execution_count": 22,
   "metadata": {},
   "outputs": [],
   "source": [
    "# Print the Confusion Matrix\n",
    "# The labels parameter is used to explicitly set the order of the classes in \n",
    "# the confusion matrix. In this case, [1, 0] specifies that the first row and \n",
    "# column in the confusion matrix correspond to class label 1, and the second \n",
    "# row and column correspond to class label 0.\n",
    "def confusion_matrix_f(y_test, predictions, first_row, second_row):\n",
    "    print(confusion_matrix(y_test, predictions, labels = [first_row, second_row]))"
   ]
  },
  {
   "cell_type": "code",
   "execution_count": 23,
   "metadata": {},
   "outputs": [],
   "source": [
    "# Print the ROC AUC Score\n",
    "def roc_auc_score_f(y_test, pred_probas):\n",
    "    print(f\"roc auc score : {roc_auc_score(y_test, pred_probas)}\")"
   ]
  },
  {
   "cell_type": "code",
   "execution_count": 24,
   "metadata": {},
   "outputs": [],
   "source": [
    "def score_f(model, x, y):\n",
    "    print(f\"Model Score : {model.score(x, y)}\")"
   ]
  },
  {
   "cell_type": "code",
   "execution_count": 25,
   "metadata": {},
   "outputs": [],
   "source": [
    "# Print the feature importances\n",
    "# row_nbr is the number of rows to display\n",
    "def feature_importances_f(clf, X, row_nbr):\n",
    "    feature_importances = clf.feature_importances_\n",
    "    importances_sorted = sorted(zip(feature_importances, X.columns), reverse=True)\n",
    "    print(\"Feature Importances:\")\n",
    "    return importances_sorted[:row_nbr]"
   ]
  }
 ],
 "metadata": {
  "kernelspec": {
   "display_name": "Python 3 (ipykernel)",
   "language": "python",
   "name": "python3"
  },
  "language_info": {
   "codemirror_mode": {
    "name": "ipython",
    "version": 3
   },
   "file_extension": ".py",
   "mimetype": "text/x-python",
   "name": "python",
   "nbconvert_exporter": "python",
   "pygments_lexer": "ipython3",
   "version": "3.11.7"
  }
 },
 "nbformat": 4,
 "nbformat_minor": 4
}
